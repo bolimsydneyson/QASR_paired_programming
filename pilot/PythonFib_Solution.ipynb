{
 "cells": [
  {
   "cell_type": "markdown",
   "metadata": {},
   "source": [
    "# What is the *n*th number in the Fibonacci sequence?\n",
    "\n",
    "The Fibonacci sequence is a sequence of numbers in which each number is the sum of the previous two numers. The sequence begins with 0 and 1. It is defined as \n",
    "\n",
    "F<sub>n</sub> = F<sub>n-1</sub> + F<sub>n-2</sub> ,\n",
    "\n",
    "where \n",
    "\n",
    "F<sub>0</sub> = 0 and F<sub>1</sub> = 1.\n",
    "\n",
    "For example, here is the sequence through the 12th number.\n",
    "\n",
    "| F<sub>0</sub> | F<sub>1</sub> | F<sub>2</sub> | F<sub>3</sub> | F<sub>4</sub> | F<sub>5</sub> | F<sub>6</sub> | F<sub>7</sub> | F<sub>8</sub> | F<sub>9</sub> | F<sub>10</sub> | F<sub>11</sub> | F<sub>12</sub> |\n",
    "| :-----------: | :-----------: | :-----------: | :-----------: | :-----------: | :-----------: | :-----------: | :-----------: | :-----------: | :-----------: | :------------: | :------------: | :------------: |\n",
    "|       0       |       1       |       1       |       2       |       3       |       5       |       8       |      12       |      21       |      34       |       55       |       89       |      144       |\n",
    "\n",
    "Write a python program to print out the *n*th number in the sequence without using any `for` or `while` loops. \n",
    "\n",
    "\n",
    "\n",
    "For example, `fibonacci(10)` should give an output `55`.\n",
    "\n",
    "For a greater challenge, optimize the above solution to improve runtime complexity. "
   ]
  },
  {
   "cell_type": "markdown",
   "metadata": {},
   "source": [
    "## Solution\n",
    "There are many ways to solve this problem, but if you cannot use loops you must use recursion. Check out this [introductory talk](https://www.youtube.com/watch?v=AfBqVVKg4GE) from North Bay Python con 2018. There are jokes!"
   ]
  },
  {
   "cell_type": "code",
   "execution_count": 2,
   "metadata": {},
   "outputs": [],
   "source": [
    "def fibonacci(n): \n",
    "    if n<0: \n",
    "        print(\"Please stick to positive numbers for now.\") \n",
    "    # F0 is 0 \n",
    "    elif n==0: \n",
    "        return 0\n",
    "    # F1 is 1 \n",
    "    elif n==1: \n",
    "        return 1\n",
    "    else: \n",
    "        return fibonacci(n-1)+fibonacci(n-2) "
   ]
  },
  {
   "cell_type": "code",
   "execution_count": 3,
   "metadata": {},
   "outputs": [
    {
     "data": {
      "text/plain": [
       "55"
      ]
     },
     "execution_count": 3,
     "metadata": {},
     "output_type": "execute_result"
    }
   ],
   "source": [
    "fibonacci(10)"
   ]
  },
  {
   "cell_type": "markdown",
   "metadata": {},
   "source": [
    "### Bonus!\n",
    "The complexity of the solution above becomes exponentially intensive. For example, check out the run time below;"
   ]
  },
  {
   "cell_type": "code",
   "execution_count": 46,
   "metadata": {},
   "outputs": [
    {
     "name": "stdout",
     "output_type": "stream",
     "text": [
      "CPU times: user 37 µs, sys: 286 µs, total: 323 µs\n",
      "Wall time: 610 µs\n"
     ]
    },
    {
     "data": {
      "text/plain": [
       "55"
      ]
     },
     "execution_count": 46,
     "metadata": {},
     "output_type": "execute_result"
    }
   ],
   "source": [
    "%time fibonacci(10)"
   ]
  },
  {
   "cell_type": "markdown",
   "metadata": {},
   "source": [
    "Can we improve on 610 microseconds? Check out the solution below that uses [memoization](https://en.wikipedia.org/wiki/Memoization), or storage, to become more efficient."
   ]
  },
  {
   "cell_type": "code",
   "execution_count": 43,
   "metadata": {},
   "outputs": [],
   "source": [
    "memoize_me_capn = {}\n",
    "def fibonacci_2(n):\n",
    "    if n in memoize_me_capn:\n",
    "        return memoize_me_capn[n]\n",
    "        \n",
    "    if n<0:\n",
    "        print(\"We are only working on the positive fibonacci numbers for now.\")\n",
    "    elif n == 0:\n",
    "        value = 0\n",
    "    elif n == 1:\n",
    "        value = 1\n",
    "    else:\n",
    "        value =  fibonacci_2(n-1)+fibonacci_2(n-2)\n",
    "    memoize_me_capn[n] = value\n",
    "    return value"
   ]
  },
  {
   "cell_type": "code",
   "execution_count": 44,
   "metadata": {},
   "outputs": [
    {
     "data": {
      "text/plain": [
       "55"
      ]
     },
     "execution_count": 44,
     "metadata": {},
     "output_type": "execute_result"
    }
   ],
   "source": [
    "fibonacci_2(10)"
   ]
  },
  {
   "cell_type": "markdown",
   "metadata": {},
   "source": [
    "We can check out the cache."
   ]
  },
  {
   "cell_type": "code",
   "execution_count": 45,
   "metadata": {},
   "outputs": [
    {
     "data": {
      "text/plain": [
       "{1: 1, 0: 0, 2: 1, 3: 2, 4: 3, 5: 5, 6: 8, 7: 13, 8: 21, 9: 34, 10: 55}"
      ]
     },
     "execution_count": 45,
     "metadata": {},
     "output_type": "execute_result"
    }
   ],
   "source": [
    "memoize_me_capn"
   ]
  },
  {
   "cell_type": "markdown",
   "metadata": {},
   "source": [
    "Let's see how much computation we saved ourselves."
   ]
  },
  {
   "cell_type": "code",
   "execution_count": 47,
   "metadata": {
    "scrolled": true
   },
   "outputs": [
    {
     "name": "stdout",
     "output_type": "stream",
     "text": [
      "CPU times: user 9 µs, sys: 0 ns, total: 9 µs\n",
      "Wall time: 11.9 µs\n"
     ]
    },
    {
     "data": {
      "text/plain": [
       "55"
      ]
     },
     "execution_count": 47,
     "metadata": {},
     "output_type": "execute_result"
    }
   ],
   "source": [
    "# clearing the cache!\n",
    "memoize_me_capn = {}\n",
    "\n",
    "#now let's compare\n",
    "%time fibonacci_2(10)"
   ]
  }
 ],
 "metadata": {
  "kernelspec": {
   "display_name": "Python 3",
   "language": "python",
   "name": "python3"
  },
  "language_info": {
   "codemirror_mode": {
    "name": "ipython",
    "version": 3
   },
   "file_extension": ".py",
   "mimetype": "text/x-python",
   "name": "python",
   "nbconvert_exporter": "python",
   "pygments_lexer": "ipython3",
   "version": "3.8.1"
  }
 },
 "nbformat": 4,
 "nbformat_minor": 4
}
