{
 "cells": [
  {
   "cell_type": "code",
   "execution_count": 0,
   "metadata": {
    "colab": {},
    "colab_type": "code",
    "id": "TFQjo6H1StZ_"
   },
   "outputs": [],
   "source": [
    "#Fn = Fn-1 + Fn-2 \n",
    "#F0 = 0 and F1 = 1."
   ]
  },
  {
   "cell_type": "code",
   "execution_count": 0,
   "metadata": {
    "colab": {
     "base_uri": "https://localhost:8080/",
     "height": 34
    },
    "colab_type": "code",
    "id": "hH2GNkHITqdb",
    "outputId": "8dda7696-21c9-489f-e402-7f9132be9830"
   },
   "outputs": [
    {
     "data": {
      "text/plain": [
       "55"
      ]
     },
     "execution_count": 3,
     "metadata": {
      "tags": []
     },
     "output_type": "execute_result"
    }
   ],
   "source": [
    "# recursive function\n",
    "\n",
    "# O(nlogn)\n",
    "# like a binary tree\n",
    "# n\n",
    "# n-1 .              n-2\n",
    "# n-2 . n-3          n-3. n-4\n",
    "# 2^3 = 8 \n",
    "# log2 (8) = 3\n",
    "# n^2 > nlog(N) > n > log(n)  \n",
    "# layers of this tree: logn\n",
    "# for each layer: 1, 2, 4, 8, ...n  . (1+2+4+....+n) = (2+2+4+...+N) -1 = 2N - 1\n",
    "# O(logn * (2N-1)) = O(nlogn)\n",
    "\n",
    "\n",
    "def fib(n):\n",
    "  if n == 0:\n",
    "    return 0\n",
    "  elif n == 1:\n",
    "    return 1\n",
    "  else:\n",
    "    return fib(n-1) + fib(n-2)\n",
    "fib(10)"
   ]
  },
  {
   "cell_type": "markdown",
   "metadata": {},
   "source": [
    "* How long (time) will this recursive function take?\n",
    "\n",
    "To have the output for above function `fib()`, it has to run itself many times (recursive) to get the answer.\n",
    "Each `fib(n-1)` and `fib(n-2)` will be split to `fib(n-2)` + `fib(n-3)` and `fib(n-3)` + `fib(n-4)`. The splitting will double its size, because each fibonacci number is an addition of previous two fibonnaci numbers. It will grow like a binary tree.\n",
    "\n",
    "For example, for a random n, n will be split to n-1 and n-2. Then the n-1 will be split to n-2 and n-3; n-2 will be split to n-3 and n-4. n-2 will be split to n-3 and n-4, n-3 to n-4 and n-5; n-3 to n-4 and n-5, and n-4 to n-5 and n-6. A diagram will be like this: \n",
    "\n",
    "n\n",
    "\n",
    "n-1,            /        n-2\n",
    "\n",
    "n-2, n-3        /         n-3, n-4\n",
    "\n",
    "n-3, n-4, n-4, n-5     /  n-4, n-5, n-5, n-6 \n",
    "\n",
    "...\n",
    "\n",
    "So the number of layers will be $log_{2}2^{(n-1)}$, so it will have $n-1$ layers.\n",
    "\n",
    "For example, if $n=4$, fib(4) can be broken into\n",
    "\n",
    "fib(3) + fib(2) which can be broken into\n",
    "\n",
    "fib(2)+fib(1) + fib(1)+fib(0).\n",
    "\n",
    "So the total number of layers are $log_{2}2^{(4-1)}$ = $log_{2}2^{3}$ = $3$, which is $(4-1)$ layers.\n",
    "\n",
    "The time that will take for this recursive function will then be how long it takes to run one fibonacci times the number of layers, which is the logged value.\n",
    "So if the question is on $n$th sequence, the time it take will be number of layers ($log_{2}2^{n-1}$).\n",
    "For each layer, it will have $1, 2, 4, 8, ..., 2^{n-2}$ which sums up to $1+2+4+8+...+2^{n-2}$ = $(2+2+4+8+...+2^{n-2}) - 1$ = $2^{n-3}-1$.\n",
    "This can be used to calculate the time it takes for the recursive function.\n",
    "\n",
    "\n",
    "In short, because recursive function needs to run itself multiple times to get the answer, it would take longer than the below two methods."
   ]
  },
  {
   "cell_type": "code",
   "execution_count": 0,
   "metadata": {
    "colab": {
     "base_uri": "https://localhost:8080/",
     "height": 34
    },
    "colab_type": "code",
    "id": "of_XVWJyUmHi",
    "outputId": "7481f024-82d3-4c5f-be23-5138da4db370"
   },
   "outputs": [
    {
     "data": {
      "text/plain": [
       "55"
      ]
     },
     "execution_count": 17,
     "metadata": {
      "tags": []
     },
     "output_type": "execute_result"
    }
   ],
   "source": [
    "# non recursive 2\n",
    "def fib_2(n):\n",
    "  res = [0] * (n+1)\n",
    "  res[0] = 0\n",
    "  res[1] = 1\n",
    "  for i in range(2, n+1):\n",
    "    res[i] = res[i - 1] + res[i - 2]\n",
    "  return res[n]\n",
    "fib_2(10)"
   ]
  },
  {
   "cell_type": "markdown",
   "metadata": {},
   "source": [
    "This method saves the answer in a list `res` and uses indexing to generate a fibonacci number."
   ]
  },
  {
   "cell_type": "code",
   "execution_count": 0,
   "metadata": {
    "colab": {
     "base_uri": "https://localhost:8080/",
     "height": 34
    },
    "colab_type": "code",
    "id": "vcYGM6vcZsXN",
    "outputId": "aa7732ea-81da-48bf-8f46-323c47c8b77b"
   },
   "outputs": [
    {
     "data": {
      "text/plain": [
       "55"
      ]
     },
     "execution_count": 18,
     "metadata": {
      "tags": []
     },
     "output_type": "execute_result"
    }
   ],
   "source": [
    "# non recursive 3\n",
    "# O(N-1) = O(N) \n",
    " def fib_3(n):\n",
    "  res = 0\n",
    "  temp1 = 0\n",
    "  temp2 = 1\n",
    "  for i in range(2, n+1):\n",
    "    temp3 = temp1 + temp2\n",
    "    temp1 = temp2\n",
    "    temp2 = temp3\n",
    "  return temp3\n",
    "fib_2(10)"
   ]
  },
  {
   "cell_type": "markdown",
   "metadata": {},
   "source": [
    "The third method is essentially same as the second method, but loops through a shorter range, which saves memory space. Second function will save every fibonacci sequence, whereas the third function will use only the last three fibonnaci numbers, which saves memory space."
   ]
  },
  {
   "cell_type": "code",
   "execution_count": null,
   "metadata": {},
   "outputs": [],
   "source": []
  }
 ],
 "metadata": {
  "colab": {
   "collapsed_sections": [],
   "name": "Celia and Cynthia.ipynb",
   "provenance": []
  },
  "kernelspec": {
   "display_name": "Python 3",
   "language": "python",
   "name": "python3"
  },
  "language_info": {
   "codemirror_mode": {
    "name": "ipython",
    "version": 3
   },
   "file_extension": ".py",
   "mimetype": "text/x-python",
   "name": "python",
   "nbconvert_exporter": "python",
   "pygments_lexer": "ipython3",
   "version": "3.7.3"
  }
 },
 "nbformat": 4,
 "nbformat_minor": 1
}
